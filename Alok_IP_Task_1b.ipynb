{
 "cells": [
  {
   "cell_type": "code",
   "execution_count": 78,
   "metadata": {},
   "outputs": [],
   "source": [
    "import cv2\n",
    "#import numpy as np"
   ]
  },
  {
   "cell_type": "code",
   "execution_count": 79,
   "metadata": {},
   "outputs": [
    {
     "name": "stdout",
     "output_type": "stream",
     "text": [
      "(1080, 1920, 3)\n"
     ]
    }
   ],
   "source": [
    "img = cv2.imread(\"Resources/612520.png\")\n",
    "print(img.shape)"
   ]
  },
  {
   "cell_type": "code",
   "execution_count": 80,
   "metadata": {},
   "outputs": [
    {
     "name": "stdout",
     "output_type": "stream",
     "text": [
      "(540, 960, 3)\n"
     ]
    }
   ],
   "source": [
    "img_Resized = cv2.resize(img, None, fx = 0.5, fy = 0.5)\n",
    "print(img_Resized.shape)"
   ]
  },
  {
   "cell_type": "code",
   "execution_count": 81,
   "metadata": {},
   "outputs": [],
   "source": [
    "#Adding the rectangle and the blocks\n",
    "cv2.rectangle(img_Resized,(180,195),(780,345),(0,0,255),-1)\n",
    "cv2.rectangle(img_Resized,(330,45),(480,495),(0,0,255),-1)\n",
    "cv2.rectangle(img_Resized,(180,195),(330,345),(0,255,0),3)\n",
    "cv2.rectangle(img_Resized,(330,195),(480,345),(0,255,0),3)\n",
    "cv2.rectangle(img_Resized,(480,195),(630,345),(0,255,0),3)\n",
    "cv2.rectangle(img_Resized,(630,195),(780,345),(0,255,0),3)\n",
    "cv2.rectangle(img_Resized,(330,45),(480,195),(0,255,0),3)\n",
    "cv2.rectangle(img_Resized,(330,345),(480,495),(0,255,0),3)\n",
    "\n",
    "#Face 1\n",
    "cv2.circle(img_Resized,(405,270),10,(255,255,0),-1)\n",
    "\n",
    "#Face 2\n",
    "cv2.circle(img_Resized,(367,382),10,(255,255,0),-1)\n",
    "cv2.circle(img_Resized,(443,458),10,(255,255,0),-1)\n",
    "\n",
    "#Face 3\n",
    "cv2.circle(img_Resized,(255,270),10,(255,255,0),-1)\n",
    "cv2.circle(img_Resized,(217,232),10,(255,255,0),-1)\n",
    "cv2.circle(img_Resized,(293,308),10,(255,255,0),-1)\n",
    "\n",
    "#Face 4\n",
    "cv2.circle(img_Resized,(517,232),10,(255,255,0),-1)\n",
    "cv2.circle(img_Resized,(593,308),10,(255,255,0),-1)\n",
    "cv2.circle(img_Resized,(593,232),10,(255,255,0),-1)\n",
    "cv2.circle(img_Resized,(517,308),10,(255,255,0),-1)\n",
    "\n",
    "#Face 5\n",
    "cv2.circle(img_Resized,(405,120),10,(255,255,0),-1)\n",
    "cv2.circle(img_Resized,(367,82),10,(255,255,0),-1)\n",
    "cv2.circle(img_Resized,(443,158),10,(255,255,0),-1)\n",
    "cv2.circle(img_Resized,(443,82),10,(255,255,0),-1)\n",
    "cv2.circle(img_Resized,(367,158),10,(255,255,0),-1)\n",
    "\n",
    "#Face 6\n",
    "cv2.circle(img_Resized,(680,270),10,(255,255,0),-1)\n",
    "cv2.circle(img_Resized,(730,270),10,(255,255,0),-1)\n",
    "cv2.circle(img_Resized,(730,220),10,(255,255,0),-1)\n",
    "cv2.circle(img_Resized,(730,320),10,(255,255,0),-1)\n",
    "cv2.circle(img_Resized,(680,220),10,(255,255,0),-1)\n",
    "cv2.circle(img_Resized,(680,320),10,(255,255,0),-1)\n",
    "\n",
    "#Adding Text\n",
    "cv2.putText(img_Resized,\"Alok Prabhakar\",(5,500),cv2.FONT_HERSHEY_COMPLEX,0.9,(255,150,0),2)\n",
    "cv2.putText(img_Resized,\"OpenCV version : \" + cv2.__version__,(5,520),cv2.FONT_HERSHEY_COMPLEX,0.6,(255,255,0),1)\n",
    "\n",
    "cv2.imshow(\"Final Image\", img_Resized)\n",
    "cv2.waitKey(0)\n",
    "cv2.destroyAllWindows()"
   ]
  }
 ],
 "metadata": {
  "kernelspec": {
   "display_name": "Python 3",
   "language": "python",
   "name": "python3"
  },
  "language_info": {
   "codemirror_mode": {
    "name": "ipython",
    "version": 3
   },
   "file_extension": ".py",
   "mimetype": "text/x-python",
   "name": "python",
   "nbconvert_exporter": "python",
   "pygments_lexer": "ipython3",
   "version": "3.8.5"
  }
 },
 "nbformat": 4,
 "nbformat_minor": 4
}
