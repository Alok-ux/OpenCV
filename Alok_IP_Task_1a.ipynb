{
 "cells": [
  {
   "cell_type": "code",
   "execution_count": 9,
   "metadata": {},
   "outputs": [],
   "source": [
    "import cv2\n",
    "#import numpy as np\n"
   ]
  },
  {
   "cell_type": "code",
   "execution_count": 10,
   "metadata": {},
   "outputs": [
    {
     "name": "stdout",
     "output_type": "stream",
     "text": [
      "(1080, 1920, 3)\n"
     ]
    }
   ],
   "source": [
    "img = cv2.imread(\"Resources/612520.png\")\n",
    "print(img.shape)"
   ]
  },
  {
   "cell_type": "code",
   "execution_count": 11,
   "metadata": {},
   "outputs": [
    {
     "name": "stdout",
     "output_type": "stream",
     "text": [
      "(540, 960, 3)\n"
     ]
    }
   ],
   "source": [
    "img_Resized = cv2.resize(img, None, fx = 0.5, fy = 0.5)\n",
    "print(img_Resized.shape)\n",
    "\n",
    "#cv2.imshow(\"Resized Image\", img_Resized)\n",
    "#cv2.waitKey(0)\n",
    "#cv2.destroyAllWindows()\n"
   ]
  },
  {
   "cell_type": "code",
   "execution_count": 12,
   "metadata": {},
   "outputs": [],
   "source": [
    "#Adding the rectangle and the blocks\n",
    "cv2.rectangle(img_Resized,(30,310),(930,460),(0,0,255),-1)\n",
    "cv2.rectangle(img_Resized,(30,310),(180,460),(0,255,0),3)\n",
    "cv2.rectangle(img_Resized,(180,310),(330,460),(0,255,0),3)\n",
    "cv2.rectangle(img_Resized,(330,310),(480,460),(0,255,0),3)\n",
    "cv2.rectangle(img_Resized,(480,310),(630,460),(0,255,0),3)\n",
    "cv2.rectangle(img_Resized,(630,310),(780,460),(0,255,0),3)\n",
    "cv2.rectangle(img_Resized,(780,310),(930,460),(0,255,0),3)\n",
    "\n",
    "#Face 1\n",
    "cv2.circle(img_Resized,(105,385),10,(255,255,0),-1)\n",
    "\n",
    "#Face 2\n",
    "cv2.circle(img_Resized,(217,347),10,(255,255,0),-1)\n",
    "cv2.circle(img_Resized,(293,423),10,(255,255,0),-1)\n",
    "\n",
    "#Face 3\n",
    "cv2.circle(img_Resized,(405,385),10,(255,255,0),-1)\n",
    "cv2.circle(img_Resized,(367,347),10,(255,255,0),-1)\n",
    "cv2.circle(img_Resized,(443,423),10,(255,255,0),-1)\n",
    "\n",
    "#Face 4\n",
    "cv2.circle(img_Resized,(517,347),10,(255,255,0),-1)\n",
    "cv2.circle(img_Resized,(593,423),10,(255,255,0),-1)\n",
    "cv2.circle(img_Resized,(517,423),10,(255,255,0),-1)\n",
    "cv2.circle(img_Resized,(593,347),10,(255,255,0),-1)\n",
    "\n",
    "#Face 5\n",
    "cv2.circle(img_Resized,(667,347),10,(255,255,0),-1)\n",
    "cv2.circle(img_Resized,(743,423),10,(255,255,0),-1)\n",
    "cv2.circle(img_Resized,(667,423),10,(255,255,0),-1)\n",
    "cv2.circle(img_Resized,(743,347),10,(255,255,0),-1)\n",
    "cv2.circle(img_Resized,(705,385),10,(255,255,0),-1)\n",
    "\n",
    "#Face 6\n",
    "cv2.circle(img_Resized,(835,345),10,(255,255,0),-1)\n",
    "cv2.circle(img_Resized,(875,345),10,(255,255,0),-1)\n",
    "cv2.circle(img_Resized,(835,385),10,(255,255,0),-1)\n",
    "cv2.circle(img_Resized,(875,385),10,(255,255,0),-1)\n",
    "cv2.circle(img_Resized,(835,425),10,(255,255,0),-1)\n",
    "cv2.circle(img_Resized,(875,425),10,(255,255,0),-1)\n",
    "\n",
    "#Adding Text\n",
    "cv2.putText(img_Resized,\"Alok Prabhakar\",(5,500),cv2.FONT_HERSHEY_COMPLEX,0.9,(255,150,0),2)\n",
    "cv2.putText(img_Resized,\"OpenCV version : \" + cv2.__version__,(5,520),cv2.FONT_HERSHEY_COMPLEX,0.6,(255,255,0),1)\n",
    "\n",
    "cv2.imshow(\"Final Image\", img_Resized)\n",
    "cv2.waitKey(0)\n",
    "cv2.destroyAllWindows()"
   ]
  }
 ],
 "metadata": {
  "kernelspec": {
   "display_name": "Python 3",
   "language": "python",
   "name": "python3"
  },
  "language_info": {
   "codemirror_mode": {
    "name": "ipython",
    "version": 3
   },
   "file_extension": ".py",
   "mimetype": "text/x-python",
   "name": "python",
   "nbconvert_exporter": "python",
   "pygments_lexer": "ipython3",
   "version": "3.8.5"
  }
 },
 "nbformat": 4,
 "nbformat_minor": 4
}
