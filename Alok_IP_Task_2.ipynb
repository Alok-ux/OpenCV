{
 "cells": [
  {
   "cell_type": "code",
   "execution_count": 17,
   "metadata": {},
   "outputs": [],
   "source": [
    "import cv2\n",
    "import numpy as np"
   ]
  },
  {
   "cell_type": "code",
   "execution_count": 29,
   "metadata": {},
   "outputs": [],
   "source": [
    "vid = cv2.VideoCapture(\"Resources/red ball green background.mp4\")\n",
    "\n",
    "\n",
    "while (vid.isOpened()):\n",
    "    ret, frame = vid.read()\n",
    "    blank_frame = np.zeros((976, 860,3))\n",
    "    if ret == True :\n",
    "        \n",
    "        imgHSV = cv2.cvtColor(frame,cv2.COLOR_BGR2HSV)\n",
    "\n",
    "        h_min = 0\n",
    "        h_max = 179\n",
    "        s_min = 15\n",
    "        s_max = 232\n",
    "        v_min = 0\n",
    "        v_max = 255\n",
    "\n",
    "        lower = np.array([h_min,s_min,v_min])\n",
    "        upper = np.array([h_max,s_max,v_max])\n",
    "        mask = cv2.inRange(imgHSV,lower,upper)\n",
    "        imgResult = cv2.bitwise_and(frame,frame,mask=mask)\n",
    "        \n",
    "        gray_frame = cv2.cvtColor(imgResult,cv2.COLOR_BGR2GRAY)\n",
    "        \n",
    "        blur = cv2.medianBlur(gray_frame,5)\n",
    "      \n",
    "        sharpening_filter = np.array([[-1,-1,-1],[-1,9,-1],[-1,-1,-1]])\n",
    "        sharpened_img = cv2.filter2D(blur,-1,sharpening_filter)\n",
    "        \n",
    "        canny_frame = cv2.Canny(sharpened_img,50,250)\n",
    "        \n",
    "        circles = cv2.HoughCircles(canny_frame,cv2.HOUGH_GRADIENT,1,65,\n",
    "                            param1=50,param2=23,minRadius=26,maxRadius=80)\n",
    "        #circles = np.uint16(np.around(circles))\n",
    "        \n",
    "        if circles is not None:\n",
    "            circles = np.round(circles[0, :]).astype(\"int\")\n",
    "            for (x,y,r) in circles:\n",
    "                #cv2.circle(cimg, (x,y), r, (36,255,12), 2)\n",
    "                cv2.circle(blank_frame,(x,y),2,(0,0,255),3)\n",
    "                cv2.putText(blank_frame,\"X = \"+str(x),(x-8,y-8),cv2.FONT_HERSHEY_COMPLEX,0.5,(255,150,0),1)\n",
    "                cv2.putText(blank_frame,\"Y = \"+str(y),(x-8,y+18),cv2.FONT_HERSHEY_COMPLEX,0.5,(255,150,0),1)\n",
    "        \n",
    "        \n",
    "        #cv2.imshow(\"Original Video\",canny_frame)\n",
    "        cv2.imshow(\"Final\",blank_frame)\n",
    "        \n",
    "        if cv2.waitKey(25) & 0xFF== ord('q'):\n",
    "            break\n",
    "    \n",
    "    else:\n",
    "        break\n",
    "        \n",
    "vid.release()\n",
    "cv2.destroyAllWindows()"
   ]
  },
  {
   "cell_type": "code",
   "execution_count": null,
   "metadata": {},
   "outputs": [],
   "source": []
  }
 ],
 "metadata": {
  "kernelspec": {
   "display_name": "Python 3",
   "language": "python",
   "name": "python3"
  },
  "language_info": {
   "codemirror_mode": {
    "name": "ipython",
    "version": 3
   },
   "file_extension": ".py",
   "mimetype": "text/x-python",
   "name": "python",
   "nbconvert_exporter": "python",
   "pygments_lexer": "ipython3",
   "version": "3.8.5"
  }
 },
 "nbformat": 4,
 "nbformat_minor": 4
}
